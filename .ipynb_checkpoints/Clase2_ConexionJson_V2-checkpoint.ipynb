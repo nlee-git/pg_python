{
 "cells": [
  {
   "cell_type": "code",
   "execution_count": 85,
   "metadata": {},
   "outputs": [],
   "source": [
    "import simplejson as json\n",
    "import psycopg2 as psy\n",
    "import pandas.io.sql as psql\n",
    "import pandas as pd\n",
    "import feather\n",
    "from datetime import datetime"
   ]
  },
  {
   "cell_type": "code",
   "execution_count": 86,
   "metadata": {},
   "outputs": [],
   "source": [
    "conexion_json = json.loads(open('secret_conexion_2.json').read())"
   ]
  },
  {
   "cell_type": "code",
   "execution_count": 87,
   "metadata": {},
   "outputs": [],
   "source": [
    "with open('secret_conexion_2.json') as conex_json:\n",
    "    parametros = json.load(conex_json)\n",
    "    host = parametros['host1']\n",
    "    dbname = parametros['dbname']\n",
    "    user = parametros['user']\n",
    "    password = parametros['password']"
   ]
  },
  {
   "cell_type": "code",
   "execution_count": 88,
   "metadata": {},
   "outputs": [],
   "source": [
    "con = psy.connect(host=host, dbname=dbname, user=user, password=password)"
   ]
  },
  {
   "cell_type": "code",
   "execution_count": 89,
   "metadata": {},
   "outputs": [],
   "source": [
    "resultado = psql.read_sql(\"select version(),pid, datname, usename , application_name, client_addr, state, query_start, query from pg_catalog.pg_stat_activity limit 10;\", con)"
   ]
  },
  {
   "cell_type": "code",
   "execution_count": 90,
   "metadata": {},
   "outputs": [
    {
     "data": {
      "text/html": [
       "<div>\n",
       "<style scoped>\n",
       "    .dataframe tbody tr th:only-of-type {\n",
       "        vertical-align: middle;\n",
       "    }\n",
       "\n",
       "    .dataframe tbody tr th {\n",
       "        vertical-align: top;\n",
       "    }\n",
       "\n",
       "    .dataframe thead th {\n",
       "        text-align: right;\n",
       "    }\n",
       "</style>\n",
       "<table border=\"1\" class=\"dataframe\">\n",
       "  <thead>\n",
       "    <tr style=\"text-align: right;\">\n",
       "      <th></th>\n",
       "      <th>version</th>\n",
       "      <th>pid</th>\n",
       "      <th>datname</th>\n",
       "      <th>usename</th>\n",
       "      <th>application_name</th>\n",
       "      <th>client_addr</th>\n",
       "      <th>state</th>\n",
       "      <th>query_start</th>\n",
       "      <th>query</th>\n",
       "    </tr>\n",
       "  </thead>\n",
       "  <tbody>\n",
       "    <tr>\n",
       "      <th>0</th>\n",
       "      <td>PostgreSQL 10.14 (Ubuntu 10.14-1.pgdg18.04+1) ...</td>\n",
       "      <td>1111</td>\n",
       "      <td>None</td>\n",
       "      <td>postgres</td>\n",
       "      <td></td>\n",
       "      <td>None</td>\n",
       "      <td>None</td>\n",
       "      <td>NaT</td>\n",
       "      <td></td>\n",
       "    </tr>\n",
       "    <tr>\n",
       "      <th>1</th>\n",
       "      <td>PostgreSQL 10.14 (Ubuntu 10.14-1.pgdg18.04+1) ...</td>\n",
       "      <td>1109</td>\n",
       "      <td>None</td>\n",
       "      <td>None</td>\n",
       "      <td></td>\n",
       "      <td>None</td>\n",
       "      <td>None</td>\n",
       "      <td>NaT</td>\n",
       "      <td></td>\n",
       "    </tr>\n",
       "    <tr>\n",
       "      <th>2</th>\n",
       "      <td>PostgreSQL 10.14 (Ubuntu 10.14-1.pgdg18.04+1) ...</td>\n",
       "      <td>12768</td>\n",
       "      <td>test</td>\n",
       "      <td>test</td>\n",
       "      <td></td>\n",
       "      <td>192.168.0.10</td>\n",
       "      <td>idle in transaction</td>\n",
       "      <td>2020-09-17 20:59:24.583905+00:00</td>\n",
       "      <td>select pid, datname, usename , application_nam...</td>\n",
       "    </tr>\n",
       "    <tr>\n",
       "      <th>3</th>\n",
       "      <td>PostgreSQL 10.14 (Ubuntu 10.14-1.pgdg18.04+1) ...</td>\n",
       "      <td>14627</td>\n",
       "      <td>test</td>\n",
       "      <td>test</td>\n",
       "      <td></td>\n",
       "      <td>192.168.0.10</td>\n",
       "      <td>active</td>\n",
       "      <td>2020-09-17 21:22:10.186490+00:00</td>\n",
       "      <td>select version(),pid, datname, usename , appli...</td>\n",
       "    </tr>\n",
       "    <tr>\n",
       "      <th>4</th>\n",
       "      <td>PostgreSQL 10.14 (Ubuntu 10.14-1.pgdg18.04+1) ...</td>\n",
       "      <td>1107</td>\n",
       "      <td>None</td>\n",
       "      <td>None</td>\n",
       "      <td></td>\n",
       "      <td>None</td>\n",
       "      <td>None</td>\n",
       "      <td>NaT</td>\n",
       "      <td></td>\n",
       "    </tr>\n",
       "    <tr>\n",
       "      <th>5</th>\n",
       "      <td>PostgreSQL 10.14 (Ubuntu 10.14-1.pgdg18.04+1) ...</td>\n",
       "      <td>1106</td>\n",
       "      <td>None</td>\n",
       "      <td>None</td>\n",
       "      <td></td>\n",
       "      <td>None</td>\n",
       "      <td>None</td>\n",
       "      <td>NaT</td>\n",
       "      <td></td>\n",
       "    </tr>\n",
       "    <tr>\n",
       "      <th>6</th>\n",
       "      <td>PostgreSQL 10.14 (Ubuntu 10.14-1.pgdg18.04+1) ...</td>\n",
       "      <td>1108</td>\n",
       "      <td>None</td>\n",
       "      <td>None</td>\n",
       "      <td></td>\n",
       "      <td>None</td>\n",
       "      <td>None</td>\n",
       "      <td>NaT</td>\n",
       "      <td></td>\n",
       "    </tr>\n",
       "  </tbody>\n",
       "</table>\n",
       "</div>"
      ],
      "text/plain": [
       "                                             version    pid datname   usename  \\\n",
       "0  PostgreSQL 10.14 (Ubuntu 10.14-1.pgdg18.04+1) ...   1111    None  postgres   \n",
       "1  PostgreSQL 10.14 (Ubuntu 10.14-1.pgdg18.04+1) ...   1109    None      None   \n",
       "2  PostgreSQL 10.14 (Ubuntu 10.14-1.pgdg18.04+1) ...  12768    test      test   \n",
       "3  PostgreSQL 10.14 (Ubuntu 10.14-1.pgdg18.04+1) ...  14627    test      test   \n",
       "4  PostgreSQL 10.14 (Ubuntu 10.14-1.pgdg18.04+1) ...   1107    None      None   \n",
       "5  PostgreSQL 10.14 (Ubuntu 10.14-1.pgdg18.04+1) ...   1106    None      None   \n",
       "6  PostgreSQL 10.14 (Ubuntu 10.14-1.pgdg18.04+1) ...   1108    None      None   \n",
       "\n",
       "  application_name   client_addr                state  \\\n",
       "0                           None                 None   \n",
       "1                           None                 None   \n",
       "2                   192.168.0.10  idle in transaction   \n",
       "3                   192.168.0.10               active   \n",
       "4                           None                 None   \n",
       "5                           None                 None   \n",
       "6                           None                 None   \n",
       "\n",
       "                       query_start  \\\n",
       "0                              NaT   \n",
       "1                              NaT   \n",
       "2 2020-09-17 20:59:24.583905+00:00   \n",
       "3 2020-09-17 21:22:10.186490+00:00   \n",
       "4                              NaT   \n",
       "5                              NaT   \n",
       "6                              NaT   \n",
       "\n",
       "                                               query  \n",
       "0                                                     \n",
       "1                                                     \n",
       "2  select pid, datname, usename , application_nam...  \n",
       "3  select version(),pid, datname, usename , appli...  \n",
       "4                                                     \n",
       "5                                                     \n",
       "6                                                     "
      ]
     },
     "execution_count": 90,
     "metadata": {},
     "output_type": "execute_result"
    }
   ],
   "source": [
    "resultado"
   ]
  },
  {
   "cell_type": "code",
   "execution_count": 91,
   "metadata": {},
   "outputs": [],
   "source": [
    "tabla_df = pd.DataFrame(resultado,columns=['version','pid', 'datname', 'usename' , 'application_name', 'client_addr', 'state', 'query_start', 'query'])"
   ]
  },
  {
   "cell_type": "code",
   "execution_count": 92,
   "metadata": {},
   "outputs": [],
   "source": [
    "tabla_feather = pd.DataFrame(data=tabla_df)"
   ]
  },
  {
   "cell_type": "code",
   "execution_count": 93,
   "metadata": {},
   "outputs": [],
   "source": [
    "raizFeather = \"pg_stat_activity_\""
   ]
  },
  {
   "cell_type": "code",
   "execution_count": 94,
   "metadata": {},
   "outputs": [],
   "source": [
    "fecha = datetime.now()"
   ]
  },
  {
   "cell_type": "code",
   "execution_count": 95,
   "metadata": {},
   "outputs": [
    {
     "data": {
      "text/plain": [
       "'pg_stat_activity_2020-09-17 18:22:10.939466'"
      ]
     },
     "execution_count": 95,
     "metadata": {},
     "output_type": "execute_result"
    }
   ],
   "source": [
    "f\"{raizFeather}{fecha}\""
   ]
  },
  {
   "cell_type": "code",
   "execution_count": 98,
   "metadata": {},
   "outputs": [],
   "source": [
    "tabla_feather.to_feather(f\"data_servers/{raizFeather}{fecha}\")"
   ]
  },
  {
   "cell_type": "code",
   "execution_count": 99,
   "metadata": {},
   "outputs": [],
   "source": [
    "leer_frame = pd.read_feather(f\"data_servers/{raizFeather}{fecha}\")"
   ]
  },
  {
   "cell_type": "code",
   "execution_count": null,
   "metadata": {
    "scrolled": true
   },
   "outputs": [],
   "source": []
  },
  {
   "cell_type": "code",
   "execution_count": null,
   "metadata": {},
   "outputs": [],
   "source": []
  },
  {
   "cell_type": "code",
   "execution_count": null,
   "metadata": {},
   "outputs": [],
   "source": []
  },
  {
   "cell_type": "code",
   "execution_count": null,
   "metadata": {},
   "outputs": [],
   "source": []
  }
 ],
 "metadata": {
  "kernelspec": {
   "display_name": "Python 3",
   "language": "python",
   "name": "python3"
  },
  "language_info": {
   "codemirror_mode": {
    "name": "ipython",
    "version": 3
   },
   "file_extension": ".py",
   "mimetype": "text/x-python",
   "name": "python",
   "nbconvert_exporter": "python",
   "pygments_lexer": "ipython3",
   "version": "3.6.9"
  }
 },
 "nbformat": 4,
 "nbformat_minor": 2
}
