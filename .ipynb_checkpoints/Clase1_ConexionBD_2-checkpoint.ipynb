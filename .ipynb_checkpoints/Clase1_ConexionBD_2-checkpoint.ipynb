{
 "cells": [
  {
   "cell_type": "code",
   "execution_count": 74,
   "metadata": {},
   "outputs": [
    {
     "ename": "ModuleNotFoundError",
     "evalue": "No module named 'sqlalchemy'",
     "output_type": "error",
     "traceback": [
      "\u001b[0;31m---------------------------------------------------------------------------\u001b[0m",
      "\u001b[0;31mModuleNotFoundError\u001b[0m                       Traceback (most recent call last)",
      "\u001b[0;32m<ipython-input-74-42c6f71d8f71>\u001b[0m in \u001b[0;36m<module>\u001b[0;34m()\u001b[0m\n\u001b[1;32m      1\u001b[0m \u001b[0;32mimport\u001b[0m \u001b[0mpsycopg2\u001b[0m\u001b[0;34m\u001b[0m\u001b[0;34m\u001b[0m\u001b[0m\n\u001b[1;32m      2\u001b[0m \u001b[0;32mimport\u001b[0m \u001b[0mpandas\u001b[0m \u001b[0;32mas\u001b[0m \u001b[0mpd\u001b[0m\u001b[0;34m\u001b[0m\u001b[0;34m\u001b[0m\u001b[0m\n\u001b[0;32m----> 3\u001b[0;31m \u001b[0;32mfrom\u001b[0m \u001b[0msqlalchemy\u001b[0m \u001b[0;32mimport\u001b[0m \u001b[0mcreate_engine\u001b[0m\u001b[0;34m\u001b[0m\u001b[0;34m\u001b[0m\u001b[0m\n\u001b[0m",
      "\u001b[0;31mModuleNotFoundError\u001b[0m: No module named 'sqlalchemy'"
     ]
    }
   ],
   "source": [
    "import psycopg2\n",
    "import pandas as pd\n",
    "from sqlalchemy import create_engine"
   ]
  },
  {
   "cell_type": "code",
   "execution_count": 51,
   "metadata": {},
   "outputs": [],
   "source": [
    "conn = psycopg2.connect(host=\"192.168.0.10\", dbname=\"test\", user=\"test\", password=\"test\")"
   ]
  },
  {
   "cell_type": "code",
   "execution_count": 52,
   "metadata": {},
   "outputs": [],
   "source": [
    "cur = conn.cursor()"
   ]
  },
  {
   "cell_type": "code",
   "execution_count": 53,
   "metadata": {},
   "outputs": [],
   "source": [
    "query = \"select pid, datname, usename , application_name, client_addr, state, query_start, query from pg_catalog.pg_stat_activity limit 10;\""
   ]
  },
  {
   "cell_type": "code",
   "execution_count": 54,
   "metadata": {},
   "outputs": [],
   "source": [
    "consulta = cur.execute(query)"
   ]
  },
  {
   "cell_type": "code",
   "execution_count": 55,
   "metadata": {},
   "outputs": [],
   "source": [
    "resultado = cur.fetchall()"
   ]
  },
  {
   "cell_type": "code",
   "execution_count": 56,
   "metadata": {},
   "outputs": [],
   "source": [
    "cur.close()"
   ]
  },
  {
   "cell_type": "code",
   "execution_count": 57,
   "metadata": {},
   "outputs": [],
   "source": [
    "conn.close()"
   ]
  },
  {
   "cell_type": "code",
   "execution_count": 58,
   "metadata": {},
   "outputs": [
    {
     "name": "stdout",
     "output_type": "stream",
     "text": [
      "[(977, None, None, '', None, None, None, ''), (979, None, 'postgres', '', None, None, None, ''), (3762, 'postgres', 'test', 'DBeaver 7.2.0 - Main <postgres>', '127.0.0.1', 'idle', datetime.datetime(2020, 9, 11, 18, 43, 55, 59039, tzinfo=psycopg2.tz.FixedOffsetTimezone(offset=-180, name=None)), 'SHOW search_path'), (3764, 'postgres', 'test', 'DBeaver 7.2.0 - Metadata <postgres>', '127.0.0.1', 'idle', datetime.datetime(2020, 9, 11, 18, 43, 55, 94461, tzinfo=psycopg2.tz.FixedOffsetTimezone(offset=-180, name=None)), 'SELECT t.oid,t.*,c.relkind,format_type(nullif(t.typbasetype, 0), t.typtypmod) as base_type_name, d.description\\nFROM pg_catalog.pg_type t\\nLEFT OUTER JOIN pg_catalog.pg_class c ON c.oid=t.typrelid\\nLEFT OUTER JOIN pg_catalog.pg_description d ON t.oid=d.objoid\\nWHERE typnamespace=$1 \\nORDER by t.oid'), (3766, 'test', 'test', 'DBeaver 7.2.0 - SQLEditor <Script.sql>', '127.0.0.1', 'idle', datetime.datetime(2020, 9, 11, 18, 43, 55, 183169, tzinfo=psycopg2.tz.FixedOffsetTimezone(offset=-180, name=None)), 'SHOW search_path'), (3768, 'test', 'test', 'DBeaver 7.2.0 - Main <test>', '127.0.0.1', 'idle', datetime.datetime(2020, 9, 11, 18, 43, 55, 169541, tzinfo=psycopg2.tz.FixedOffsetTimezone(offset=-180, name=None)), 'SHOW search_path'), (3770, 'test', 'test', 'DBeaver 7.2.0 - Metadata <test>', '127.0.0.1', 'idle', datetime.datetime(2020, 9, 11, 18, 43, 55, 182804, tzinfo=psycopg2.tz.FixedOffsetTimezone(offset=-180, name=None)), 'SHOW search_path'), (4522, 'test', 'test', '', '192.168.0.10', 'active', datetime.datetime(2020, 9, 11, 18, 50, 32, 130590, tzinfo=psycopg2.tz.FixedOffsetTimezone(offset=-180, name=None)), 'select pid, datname, usename , application_name, client_addr, state, query_start, query from pg_catalog.pg_stat_activity limit 10;'), (975, None, None, '', None, None, None, ''), (974, None, None, '', None, None, None, '')]\n"
     ]
    }
   ],
   "source": [
    "print(resultado)"
   ]
  },
  {
   "cell_type": "code",
   "execution_count": 67,
   "metadata": {},
   "outputs": [
    {
     "data": {
      "text/plain": [
       "8"
      ]
     },
     "execution_count": 67,
     "metadata": {},
     "output_type": "execute_result"
    }
   ],
   "source": [
    "len(resultado[0])"
   ]
  },
  {
   "cell_type": "code",
   "execution_count": 68,
   "metadata": {},
   "outputs": [
    {
     "name": "stdout",
     "output_type": "stream",
     "text": [
      "977 None None \n",
      "979 None postgres \n",
      "3762 postgres test DBeaver 7.2.0 - Main <postgres>\n",
      "3764 postgres test DBeaver 7.2.0 - Metadata <postgres>\n",
      "3766 test test DBeaver 7.2.0 - SQLEditor <Script.sql>\n",
      "3768 test test DBeaver 7.2.0 - Main <test>\n",
      "3770 test test DBeaver 7.2.0 - Metadata <test>\n",
      "4522 test test \n",
      "975 None None \n",
      "974 None None \n"
     ]
    }
   ],
   "source": [
    "for (pid, base_de_datos, usuario, applicacion, _, _, _, _) in resultado:\n",
    "    print(pid,base_de_datos,usuario,applicacion)"
   ]
  },
  {
   "cell_type": "code",
   "execution_count": 60,
   "metadata": {},
   "outputs": [],
   "source": [
    "tabla = \"\"\"\n",
    "\\\n",
    "+--------------------------------------------------+\n",
    "| pid    base_de_datos        usuario applicacion  |\n",
    "|--------------------------------------------------|\n",
    "{}\n",
    "+--------------------------------------------------+\n",
    "\\\n",
    "\"\"\""
   ]
  },
  {
   "cell_type": "code",
   "execution_count": 61,
   "metadata": {},
   "outputs": [],
   "source": [
    "tabla = (tabla.format('\\n'.join(\"|{:<4} |\".format(*fila)\n",
    "                               for fila in resultado)))"
   ]
  },
  {
   "cell_type": "code",
   "execution_count": 62,
   "metadata": {},
   "outputs": [
    {
     "name": "stdout",
     "output_type": "stream",
     "text": [
      "\n",
      "+--------------------------------------------------+\n",
      "| pid    base_de_datos        usuario applicacion  |\n",
      "|--------------------------------------------------|\n",
      "|977  |\n",
      "|979  |\n",
      "|3762 |\n",
      "|3764 |\n",
      "|3766 |\n",
      "|3768 |\n",
      "|3770 |\n",
      "|4522 |\n",
      "|975  |\n",
      "|974  |\n",
      "+--------------------------------------------------+\n",
      "\n"
     ]
    }
   ],
   "source": [
    "print(tabla)"
   ]
  },
  {
   "cell_type": "code",
   "execution_count": 63,
   "metadata": {},
   "outputs": [],
   "source": [
    "tabla_df = pd.DataFrame(resultado,columns=['pid', 'datname', 'usename' , 'application_name', 'client_addr', 'state', 'query_start', 'query'])"
   ]
  },
  {
   "cell_type": "code",
   "execution_count": 73,
   "metadata": {},
   "outputs": [
    {
     "data": {
      "text/plain": [
       "'foo'"
      ]
     },
     "metadata": {},
     "output_type": "display_data"
    },
    {
     "data": {
      "text/html": [
       "<div>\n",
       "<style scoped>\n",
       "    .dataframe tbody tr th:only-of-type {\n",
       "        vertical-align: middle;\n",
       "    }\n",
       "\n",
       "    .dataframe tbody tr th {\n",
       "        vertical-align: top;\n",
       "    }\n",
       "\n",
       "    .dataframe thead th {\n",
       "        text-align: right;\n",
       "    }\n",
       "</style>\n",
       "<table border=\"1\" class=\"dataframe\">\n",
       "  <thead>\n",
       "    <tr style=\"text-align: right;\">\n",
       "      <th></th>\n",
       "      <th>pid</th>\n",
       "      <th>datname</th>\n",
       "      <th>usename</th>\n",
       "      <th>application_name</th>\n",
       "      <th>client_addr</th>\n",
       "      <th>state</th>\n",
       "      <th>query_start</th>\n",
       "      <th>query</th>\n",
       "    </tr>\n",
       "  </thead>\n",
       "  <tbody>\n",
       "    <tr>\n",
       "      <th>0</th>\n",
       "      <td>977</td>\n",
       "      <td>None</td>\n",
       "      <td>None</td>\n",
       "      <td></td>\n",
       "      <td>None</td>\n",
       "      <td>None</td>\n",
       "      <td>NaT</td>\n",
       "      <td></td>\n",
       "    </tr>\n",
       "    <tr>\n",
       "      <th>1</th>\n",
       "      <td>979</td>\n",
       "      <td>None</td>\n",
       "      <td>postgres</td>\n",
       "      <td></td>\n",
       "      <td>None</td>\n",
       "      <td>None</td>\n",
       "      <td>NaT</td>\n",
       "      <td></td>\n",
       "    </tr>\n",
       "    <tr>\n",
       "      <th>2</th>\n",
       "      <td>3762</td>\n",
       "      <td>postgres</td>\n",
       "      <td>test</td>\n",
       "      <td>DBeaver 7.2.0 - Main &lt;postgres&gt;</td>\n",
       "      <td>127.0.0.1</td>\n",
       "      <td>idle</td>\n",
       "      <td>2020-09-11 18:43:55.059039-03:00</td>\n",
       "      <td>SHOW search_path</td>\n",
       "    </tr>\n",
       "    <tr>\n",
       "      <th>3</th>\n",
       "      <td>3764</td>\n",
       "      <td>postgres</td>\n",
       "      <td>test</td>\n",
       "      <td>DBeaver 7.2.0 - Metadata &lt;postgres&gt;</td>\n",
       "      <td>127.0.0.1</td>\n",
       "      <td>idle</td>\n",
       "      <td>2020-09-11 18:43:55.094461-03:00</td>\n",
       "      <td>SELECT t.oid,t.*,c.relkind,format_type(nullif(...</td>\n",
       "    </tr>\n",
       "    <tr>\n",
       "      <th>4</th>\n",
       "      <td>3766</td>\n",
       "      <td>test</td>\n",
       "      <td>test</td>\n",
       "      <td>DBeaver 7.2.0 - SQLEditor &lt;Script.sql&gt;</td>\n",
       "      <td>127.0.0.1</td>\n",
       "      <td>idle</td>\n",
       "      <td>2020-09-11 18:43:55.183169-03:00</td>\n",
       "      <td>SHOW search_path</td>\n",
       "    </tr>\n",
       "    <tr>\n",
       "      <th>5</th>\n",
       "      <td>3768</td>\n",
       "      <td>test</td>\n",
       "      <td>test</td>\n",
       "      <td>DBeaver 7.2.0 - Main &lt;test&gt;</td>\n",
       "      <td>127.0.0.1</td>\n",
       "      <td>idle</td>\n",
       "      <td>2020-09-11 18:43:55.169541-03:00</td>\n",
       "      <td>SHOW search_path</td>\n",
       "    </tr>\n",
       "    <tr>\n",
       "      <th>6</th>\n",
       "      <td>3770</td>\n",
       "      <td>test</td>\n",
       "      <td>test</td>\n",
       "      <td>DBeaver 7.2.0 - Metadata &lt;test&gt;</td>\n",
       "      <td>127.0.0.1</td>\n",
       "      <td>idle</td>\n",
       "      <td>2020-09-11 18:43:55.182804-03:00</td>\n",
       "      <td>SHOW search_path</td>\n",
       "    </tr>\n",
       "    <tr>\n",
       "      <th>7</th>\n",
       "      <td>4522</td>\n",
       "      <td>test</td>\n",
       "      <td>test</td>\n",
       "      <td></td>\n",
       "      <td>192.168.0.10</td>\n",
       "      <td>active</td>\n",
       "      <td>2020-09-11 18:50:32.130590-03:00</td>\n",
       "      <td>select pid, datname, usename , application_nam...</td>\n",
       "    </tr>\n",
       "    <tr>\n",
       "      <th>8</th>\n",
       "      <td>975</td>\n",
       "      <td>None</td>\n",
       "      <td>None</td>\n",
       "      <td></td>\n",
       "      <td>None</td>\n",
       "      <td>None</td>\n",
       "      <td>NaT</td>\n",
       "      <td></td>\n",
       "    </tr>\n",
       "    <tr>\n",
       "      <th>9</th>\n",
       "      <td>974</td>\n",
       "      <td>None</td>\n",
       "      <td>None</td>\n",
       "      <td></td>\n",
       "      <td>None</td>\n",
       "      <td>None</td>\n",
       "      <td>NaT</td>\n",
       "      <td></td>\n",
       "    </tr>\n",
       "  </tbody>\n",
       "</table>\n",
       "</div>"
      ],
      "text/plain": [
       "    pid   datname   usename                        application_name  \\\n",
       "0   977      None      None                                           \n",
       "1   979      None  postgres                                           \n",
       "2  3762  postgres      test         DBeaver 7.2.0 - Main <postgres>   \n",
       "3  3764  postgres      test     DBeaver 7.2.0 - Metadata <postgres>   \n",
       "4  3766      test      test  DBeaver 7.2.0 - SQLEditor <Script.sql>   \n",
       "5  3768      test      test             DBeaver 7.2.0 - Main <test>   \n",
       "6  3770      test      test         DBeaver 7.2.0 - Metadata <test>   \n",
       "7  4522      test      test                                           \n",
       "8   975      None      None                                           \n",
       "9   974      None      None                                           \n",
       "\n",
       "    client_addr   state                      query_start  \\\n",
       "0          None    None                              NaT   \n",
       "1          None    None                              NaT   \n",
       "2     127.0.0.1    idle 2020-09-11 18:43:55.059039-03:00   \n",
       "3     127.0.0.1    idle 2020-09-11 18:43:55.094461-03:00   \n",
       "4     127.0.0.1    idle 2020-09-11 18:43:55.183169-03:00   \n",
       "5     127.0.0.1    idle 2020-09-11 18:43:55.169541-03:00   \n",
       "6     127.0.0.1    idle 2020-09-11 18:43:55.182804-03:00   \n",
       "7  192.168.0.10  active 2020-09-11 18:50:32.130590-03:00   \n",
       "8          None    None                              NaT   \n",
       "9          None    None                              NaT   \n",
       "\n",
       "                                               query  \n",
       "0                                                     \n",
       "1                                                     \n",
       "2                                   SHOW search_path  \n",
       "3  SELECT t.oid,t.*,c.relkind,format_type(nullif(...  \n",
       "4                                   SHOW search_path  \n",
       "5                                   SHOW search_path  \n",
       "6                                   SHOW search_path  \n",
       "7  select pid, datname, usename , application_nam...  \n",
       "8                                                     \n",
       "9                                                     "
      ]
     },
     "execution_count": 73,
     "metadata": {},
     "output_type": "execute_result"
    }
   ],
   "source": [
    "display('foo')\n",
    "tabla_df\n",
    "        "
   ]
  },
  {
   "cell_type": "code",
   "execution_count": null,
   "metadata": {},
   "outputs": [],
   "source": [
    "pd.read_sql()"
   ]
  }
 ],
 "metadata": {
  "kernelspec": {
   "display_name": "Python 3",
   "language": "python",
   "name": "python3"
  },
  "language_info": {
   "codemirror_mode": {
    "name": "ipython",
    "version": 3
   },
   "file_extension": ".py",
   "mimetype": "text/x-python",
   "name": "python",
   "nbconvert_exporter": "python",
   "pygments_lexer": "ipython3",
   "version": "3.6.8"
  }
 },
 "nbformat": 4,
 "nbformat_minor": 2
}
