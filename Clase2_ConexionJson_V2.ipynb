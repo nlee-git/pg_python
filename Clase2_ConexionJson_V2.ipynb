{
 "cells": [
  {
   "cell_type": "code",
   "execution_count": 1,
   "metadata": {},
   "outputs": [],
   "source": [
    "import simplejson as json\n",
    "import psycopg2 as psy\n",
    "import pandas.io.sql as psql\n",
    "import pandas as pd\n",
    "from datetime import datetime"
   ]
  },
  {
   "cell_type": "code",
   "execution_count": 2,
   "metadata": {},
   "outputs": [],
   "source": [
    "conexion_json = json.loads(open('secret_conexion_2.json').read())"
   ]
  },
  {
   "cell_type": "code",
   "execution_count": 3,
   "metadata": {},
   "outputs": [
    {
     "data": {
      "text/plain": [
       "{'cliente': 'clientePostgres_10',\n",
       " 'host': 'localhost',\n",
       " 'port': '5432',\n",
       " 'dbname': 'postgres',\n",
       " 'user': 'postgres',\n",
       " 'password': 'postgres'}"
      ]
     },
     "metadata": {},
     "output_type": "display_data"
    },
    {
     "data": {
      "text/plain": [
       "{'cliente': 'clientePostgres_12',\n",
       " 'host': 'localhost',\n",
       " 'port': '5433',\n",
       " 'dbname': 'postgres',\n",
       " 'user': 'postgres',\n",
       " 'password': 'postgres'}"
      ]
     },
     "metadata": {},
     "output_type": "display_data"
    }
   ],
   "source": [
    "with open('secret_conexion_2.json') as conex_json:\n",
    "    parametros = json.load(conex_json)\n",
    "\n",
    "for dbdata in parametros:\n",
    "    display(dbdata)"
   ]
  },
  {
   "cell_type": "code",
   "execution_count": 4,
   "metadata": {},
   "outputs": [],
   "source": [
    "def get_data_from_db(db_params):\n",
    "    con = psy.connect(host=db_params['host'],\n",
    "                      port=db_params['port'],\n",
    "                      dbname=db_params['dbname'],\n",
    "                      user=db_params['user'],\n",
    "                      password=db_params['password'])\n",
    "    query = \"select version(),pid, datname, usename , application_name, client_addr, state, query_start, query from pg_catalog.pg_stat_activity limit 10;\"\n",
    "    resultado = psql.read_sql(query, con)\n",
    "    \n",
    "    df = pd.DataFrame(resultado,columns=['version','pid', 'datname', 'usename' , 'application_name', 'client_addr', 'state', 'query_start', 'query'])\n",
    "    now = datetime.now()\n",
    "    df.to_feather(f\"data_servers/{now:{db_params['cliente']}%Y-%m-%d %H.%M.%S.feather}\")\n",
    "    \n",
    "with open('secret_conexion_2.json') as conex_json:\n",
    "    parametros = json.load(conex_json)\n",
    "\n",
    "for dbdata in parametros:\n",
    "    get_data_from_db(dbdata)"
   ]
  },
  {
   "cell_type": "code",
   "execution_count": null,
   "metadata": {},
   "outputs": [],
   "source": []
  },
  {
   "cell_type": "code",
   "execution_count": null,
   "metadata": {},
   "outputs": [],
   "source": []
  },
  {
   "cell_type": "code",
   "execution_count": null,
   "metadata": {},
   "outputs": [],
   "source": []
  },
  {
   "cell_type": "code",
   "execution_count": null,
   "metadata": {},
   "outputs": [],
   "source": []
  },
  {
   "cell_type": "code",
   "execution_count": null,
   "metadata": {},
   "outputs": [],
   "source": []
  },
  {
   "cell_type": "code",
   "execution_count": null,
   "metadata": {},
   "outputs": [],
   "source": []
  },
  {
   "cell_type": "code",
   "execution_count": 94,
   "metadata": {},
   "outputs": [],
   "source": []
  },
  {
   "cell_type": "code",
   "execution_count": 95,
   "metadata": {},
   "outputs": [
    {
     "data": {
      "text/plain": [
       "'pg_stat_activity_2020-09-17 18:22:10.939466'"
      ]
     },
     "execution_count": 95,
     "metadata": {},
     "output_type": "execute_result"
    }
   ],
   "source": []
  },
  {
   "cell_type": "code",
   "execution_count": 98,
   "metadata": {},
   "outputs": [],
   "source": []
  },
  {
   "cell_type": "code",
   "execution_count": 99,
   "metadata": {},
   "outputs": [],
   "source": []
  },
  {
   "cell_type": "code",
   "execution_count": null,
   "metadata": {
    "scrolled": true
   },
   "outputs": [],
   "source": []
  },
  {
   "cell_type": "code",
   "execution_count": null,
   "metadata": {},
   "outputs": [],
   "source": []
  },
  {
   "cell_type": "code",
   "execution_count": null,
   "metadata": {},
   "outputs": [],
   "source": []
  },
  {
   "cell_type": "code",
   "execution_count": null,
   "metadata": {},
   "outputs": [],
   "source": []
  }
 ],
 "metadata": {
  "kernelspec": {
   "display_name": "Python 3",
   "language": "python",
   "name": "python3"
  },
  "language_info": {
   "codemirror_mode": {
    "name": "ipython",
    "version": 3
   },
   "file_extension": ".py",
   "mimetype": "text/x-python",
   "name": "python",
   "nbconvert_exporter": "python",
   "pygments_lexer": "ipython3",
   "version": "3.8.2"
  }
 },
 "nbformat": 4,
 "nbformat_minor": 2
}
