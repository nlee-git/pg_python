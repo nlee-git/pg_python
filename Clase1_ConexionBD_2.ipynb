{
 "cells": [
  {
   "cell_type": "code",
   "execution_count": 1,
   "metadata": {},
   "outputs": [],
   "source": [
    "import psycopg2"
   ]
  },
  {
   "cell_type": "code",
   "execution_count": 2,
   "metadata": {},
   "outputs": [],
   "source": [
    "conn = psycopg2.connect(host=\"192.168.0.10\", dbname=\"test\", user=\"test\", password=\"test\")"
   ]
  },
  {
   "cell_type": "code",
   "execution_count": 3,
   "metadata": {},
   "outputs": [],
   "source": [
    "cur = conn.cursor()"
   ]
  },
  {
   "cell_type": "code",
   "execution_count": 4,
   "metadata": {},
   "outputs": [],
   "source": [
    "query = \"select pid, datname, usename , application_name, client_addr, state, query_start, query from pg_catalog.pg_stat_activity limit 10;\""
   ]
  },
  {
   "cell_type": "code",
   "execution_count": 5,
   "metadata": {},
   "outputs": [],
   "source": [
    "consulta = cur.execute(query)"
   ]
  },
  {
   "cell_type": "code",
   "execution_count": 6,
   "metadata": {},
   "outputs": [],
   "source": [
    "resultado = cur.fetchall()"
   ]
  },
  {
   "cell_type": "code",
   "execution_count": 7,
   "metadata": {},
   "outputs": [],
   "source": [
    "cur.close()"
   ]
  },
  {
   "cell_type": "code",
   "execution_count": 8,
   "metadata": {},
   "outputs": [],
   "source": [
    "conn.close()"
   ]
  },
  {
   "cell_type": "code",
   "execution_count": 9,
   "metadata": {},
   "outputs": [
    {
     "name": "stdout",
     "output_type": "stream",
     "text": [
      "[(1122, None, None, '', None, None, None, ''), (1124, None, 'postgres', '', None, None, None, ''), (3837, 'test', 'test', '', '192.168.0.10', 'idle in transaction', datetime.datetime(2020, 9, 11, 17, 12, 56, 416092, tzinfo=psycopg2.tz.FixedOffsetTimezone(offset=-180, name=None)), 'select pid, datname, usename , application_name, \\nclient_addr, state, query_start, query \\nfrom pg_catalog.pg_stat_activity limit 10'), (3944, 'test', 'test', '', '192.168.0.10', 'active', datetime.datetime(2020, 9, 11, 17, 13, 6, 305322, tzinfo=psycopg2.tz.FixedOffsetTimezone(offset=-180, name=None)), 'select pid, datname, usename , application_name, client_addr, state, query_start, query from pg_catalog.pg_stat_activity limit 10;'), (3950, 'postgres', 'test', 'DBeaver 7.2.0 - Main <postgres>', '127.0.0.1', 'idle', datetime.datetime(2020, 9, 11, 17, 13, 6, 187766, tzinfo=psycopg2.tz.FixedOffsetTimezone(offset=-180, name=None)), 'SHOW search_path'), (3952, 'postgres', 'test', 'DBeaver 7.2.0 - Metadata <postgres>', '127.0.0.1', 'idle', datetime.datetime(2020, 9, 11, 17, 13, 6, 225951, tzinfo=psycopg2.tz.FixedOffsetTimezone(offset=-180, name=None)), 'SELECT t.oid,t.*,c.relkind,format_type(nullif(t.typbasetype, 0), t.typtypmod) as base_type_name, d.description\\nFROM pg_catalog.pg_type t\\nLEFT OUTER JOIN pg_catalog.pg_class c ON c.oid=t.typrelid\\nLEFT OUTER JOIN pg_catalog.pg_description d ON t.oid=d.objoid\\nWHERE typnamespace=$1 \\nORDER by t.oid'), (3954, 'test', 'test', 'DBeaver 7.2.0 - SQLEditor <Script.sql>', '127.0.0.1', 'idle', datetime.datetime(2020, 9, 11, 17, 13, 6, 289505, tzinfo=psycopg2.tz.FixedOffsetTimezone(offset=-180, name=None)), 'SELECT current_schema(),session_user'), (3956, 'test', 'test', 'PostgreSQL JDBC Driver', '127.0.0.1', 'idle', datetime.datetime(2020, 9, 11, 17, 13, 6, 303498, tzinfo=psycopg2.tz.FixedOffsetTimezone(offset=-180, name=None)), \"SET application_name = 'PostgreSQL JDBC Driver'\"), (1120, None, None, '', None, None, None, ''), (1119, None, None, '', None, None, None, '')]\n"
     ]
    }
   ],
   "source": [
    "print(resultado)"
   ]
  },
  {
   "cell_type": "code",
   "execution_count": 10,
   "metadata": {},
   "outputs": [
    {
     "name": "stdout",
     "output_type": "stream",
     "text": [
      "1122 None None \n",
      "1124 None postgres \n",
      "3837 test test \n",
      "3944 test test \n",
      "3950 postgres test DBeaver 7.2.0 - Main <postgres>\n",
      "3952 postgres test DBeaver 7.2.0 - Metadata <postgres>\n",
      "3954 test test DBeaver 7.2.0 - SQLEditor <Script.sql>\n",
      "3956 test test PostgreSQL JDBC Driver\n",
      "1120 None None \n",
      "1119 None None \n"
     ]
    }
   ],
   "source": [
    "for campos in resultado:\n",
    "    pid = campos[0]\n",
    "    base_de_datos = campos[1]\n",
    "    usuario = campos[2]\n",
    "    applicacion = campos[3]\n",
    "    print(pid,base_de_datos,usuario,applicacion)"
   ]
  },
  {
   "cell_type": "code",
   "execution_count": 11,
   "metadata": {},
   "outputs": [],
   "source": [
    "tabla = \"\"\"\n",
    "\\\n",
    "+--------------------------------------------------+\n",
    "| pid    base_de_datos        usuario applicacion  |\n",
    "|--------------------------------------------------|\n",
    "{}\n",
    "+--------------------------------------------------+\n",
    "\\\n",
    "\"\"\""
   ]
  },
  {
   "cell_type": "code",
   "execution_count": 12,
   "metadata": {},
   "outputs": [],
   "source": [
    "tabla = (tabla.format('\\n'.join(\"|{:<4} |\".format(*fila)\n",
    "                               for fila in resultado)))"
   ]
  },
  {
   "cell_type": "code",
   "execution_count": 13,
   "metadata": {},
   "outputs": [
    {
     "name": "stdout",
     "output_type": "stream",
     "text": [
      "\n",
      "+--------------------------------------------------+\n",
      "| pid    base_de_datos        usuario applicacion  |\n",
      "|--------------------------------------------------|\n",
      "|1122 |\n",
      "|1124 |\n",
      "|3837 |\n",
      "|3944 |\n",
      "|3950 |\n",
      "|3952 |\n",
      "|3954 |\n",
      "|3956 |\n",
      "|1120 |\n",
      "|1119 |\n",
      "+--------------------------------------------------+\n",
      "\n"
     ]
    }
   ],
   "source": [
    "print(tabla)"
   ]
  },
  {
   "cell_type": "code",
   "execution_count": null,
   "metadata": {},
   "outputs": [],
   "source": []
  }
 ],
 "metadata": {
  "kernelspec": {
   "display_name": "Python 3",
   "language": "python",
   "name": "python3"
  },
  "language_info": {
   "codemirror_mode": {
    "name": "ipython",
    "version": 3
   },
   "file_extension": ".py",
   "mimetype": "text/x-python",
   "name": "python",
   "nbconvert_exporter": "python",
   "pygments_lexer": "ipython3",
   "version": "3.6.8"
  }
 },
 "nbformat": 4,
 "nbformat_minor": 2
}
