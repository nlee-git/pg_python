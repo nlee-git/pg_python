{
 "cells": [
  {
   "cell_type": "code",
   "execution_count": 1,
   "metadata": {},
   "outputs": [],
   "source": [
    "import psycopg2"
   ]
  },
  {
   "cell_type": "code",
   "execution_count": 2,
   "metadata": {},
   "outputs": [],
   "source": [
    "conn = psycopg2.connect(host=\"192.168.0.10\", dbname=\"test\", user=\"test\", password=\"test\")"
   ]
  },
  {
   "cell_type": "code",
   "execution_count": 3,
   "metadata": {},
   "outputs": [],
   "source": [
    "cur = conn.cursor()"
   ]
  },
  {
   "cell_type": "code",
   "execution_count": 4,
   "metadata": {
    "scrolled": true
   },
   "outputs": [],
   "source": [
    "cur.execute(\"\"\"select pid, datname, usename , application_name, \n",
    "client_addr, state, query_start, query \n",
    "from pg_catalog.pg_stat_activity limit 10\"\"\")"
   ]
  },
  {
   "cell_type": "code",
   "execution_count": 5,
   "metadata": {},
   "outputs": [],
   "source": [
    "query_results = cur.fetchall()\n"
   ]
  },
  {
   "cell_type": "code",
   "execution_count": 6,
   "metadata": {},
   "outputs": [
    {
     "name": "stdout",
     "output_type": "stream",
     "text": [
      "[(1122, None, None, '', None, None, None, ''), (1124, None, 'postgres', '', None, None, None, ''), (3837, 'test', 'test', '', '192.168.0.10', 'active', datetime.datetime(2020, 9, 11, 17, 12, 56, 416092, tzinfo=psycopg2.tz.FixedOffsetTimezone(offset=-180, name=None)), 'select pid, datname, usename , application_name, \\nclient_addr, state, query_start, query \\nfrom pg_catalog.pg_stat_activity limit 10'), (1120, None, None, '', None, None, None, ''), (1119, None, None, '', None, None, None, ''), (1121, None, None, '', None, None, None, '')]\n"
     ]
    }
   ],
   "source": [
    "print(query_results)"
   ]
  },
  {
   "cell_type": "code",
   "execution_count": null,
   "metadata": {},
   "outputs": [],
   "source": []
  }
 ],
 "metadata": {
  "kernelspec": {
   "display_name": "Python 3",
   "language": "python",
   "name": "python3"
  },
  "language_info": {
   "codemirror_mode": {
    "name": "ipython",
    "version": 3
   },
   "file_extension": ".py",
   "mimetype": "text/x-python",
   "name": "python",
   "nbconvert_exporter": "python",
   "pygments_lexer": "ipython3",
   "version": "3.6.8"
  }
 },
 "nbformat": 4,
 "nbformat_minor": 2
}
